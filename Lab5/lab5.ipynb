{
 "cells": [
  {
   "cell_type": "code",
   "execution_count": 1,
   "metadata": {},
   "outputs": [
    {
     "name": "stderr",
     "output_type": "stream",
     "text": [
      "C:\\Users\\Lenovo\\AppData\\Local\\Temp\\ipykernel_1772\\2259509481.py:19: FutureWarning: A value is trying to be set on a copy of a DataFrame or Series through chained assignment using an inplace method.\n",
      "The behavior will change in pandas 3.0. This inplace method will never work because the intermediate object on which we are setting values always behaves as a copy.\n",
      "\n",
      "For example, when doing 'df[col].method(value, inplace=True)', try using 'df.method({col: value}, inplace=True)' or df[col] = df[col].method(value) instead, to perform the operation inplace on the original object.\n",
      "\n",
      "\n",
      "  df.RoomService.fillna(df.RoomService.mean(), inplace = True)\n",
      "C:\\Users\\Lenovo\\AppData\\Local\\Temp\\ipykernel_1772\\2259509481.py:20: FutureWarning: A value is trying to be set on a copy of a DataFrame or Series through chained assignment using an inplace method.\n",
      "The behavior will change in pandas 3.0. This inplace method will never work because the intermediate object on which we are setting values always behaves as a copy.\n",
      "\n",
      "For example, when doing 'df[col].method(value, inplace=True)', try using 'df.method({col: value}, inplace=True)' or df[col] = df[col].method(value) instead, to perform the operation inplace on the original object.\n",
      "\n",
      "\n",
      "  df.FoodCourt.fillna(df.FoodCourt.mean(), inplace = True)\n",
      "C:\\Users\\Lenovo\\AppData\\Local\\Temp\\ipykernel_1772\\2259509481.py:21: FutureWarning: A value is trying to be set on a copy of a DataFrame or Series through chained assignment using an inplace method.\n",
      "The behavior will change in pandas 3.0. This inplace method will never work because the intermediate object on which we are setting values always behaves as a copy.\n",
      "\n",
      "For example, when doing 'df[col].method(value, inplace=True)', try using 'df.method({col: value}, inplace=True)' or df[col] = df[col].method(value) instead, to perform the operation inplace on the original object.\n",
      "\n",
      "\n",
      "  df.ShoppingMall.fillna(df.ShoppingMall.mean(), inplace = True)\n",
      "C:\\Users\\Lenovo\\AppData\\Local\\Temp\\ipykernel_1772\\2259509481.py:22: FutureWarning: A value is trying to be set on a copy of a DataFrame or Series through chained assignment using an inplace method.\n",
      "The behavior will change in pandas 3.0. This inplace method will never work because the intermediate object on which we are setting values always behaves as a copy.\n",
      "\n",
      "For example, when doing 'df[col].method(value, inplace=True)', try using 'df.method({col: value}, inplace=True)' or df[col] = df[col].method(value) instead, to perform the operation inplace on the original object.\n",
      "\n",
      "\n",
      "  df.Spa.fillna(df.Spa.mean(), inplace = True)\n",
      "C:\\Users\\Lenovo\\AppData\\Local\\Temp\\ipykernel_1772\\2259509481.py:23: FutureWarning: A value is trying to be set on a copy of a DataFrame or Series through chained assignment using an inplace method.\n",
      "The behavior will change in pandas 3.0. This inplace method will never work because the intermediate object on which we are setting values always behaves as a copy.\n",
      "\n",
      "For example, when doing 'df[col].method(value, inplace=True)', try using 'df.method({col: value}, inplace=True)' or df[col] = df[col].method(value) instead, to perform the operation inplace on the original object.\n",
      "\n",
      "\n",
      "  df.VRDeck.fillna(df.VRDeck.mean(), inplace = True)\n",
      "C:\\Users\\Lenovo\\AppData\\Local\\Temp\\ipykernel_1772\\2259509481.py:24: FutureWarning: A value is trying to be set on a copy of a DataFrame or Series through chained assignment using an inplace method.\n",
      "The behavior will change in pandas 3.0. This inplace method will never work because the intermediate object on which we are setting values always behaves as a copy.\n",
      "\n",
      "For example, when doing 'df[col].method(value, inplace=True)', try using 'df.method({col: value}, inplace=True)' or df[col] = df[col].method(value) instead, to perform the operation inplace on the original object.\n",
      "\n",
      "\n",
      "  df.CryoSleep.fillna(False, inplace = True)\n",
      "C:\\Users\\Lenovo\\AppData\\Local\\Temp\\ipykernel_1772\\2259509481.py:24: FutureWarning: Downcasting object dtype arrays on .fillna, .ffill, .bfill is deprecated and will change in a future version. Call result.infer_objects(copy=False) instead. To opt-in to the future behavior, set `pd.set_option('future.no_silent_downcasting', True)`\n",
      "  df.CryoSleep.fillna(False, inplace = True)\n",
      "C:\\Users\\Lenovo\\AppData\\Local\\Temp\\ipykernel_1772\\2259509481.py:26: FutureWarning: A value is trying to be set on a copy of a DataFrame or Series through chained assignment using an inplace method.\n",
      "The behavior will change in pandas 3.0. This inplace method will never work because the intermediate object on which we are setting values always behaves as a copy.\n",
      "\n",
      "For example, when doing 'df[col].method(value, inplace=True)', try using 'df.method({col: value}, inplace=True)' or df[col] = df[col].method(value) instead, to perform the operation inplace on the original object.\n",
      "\n",
      "\n",
      "  df[\"Transported\"].replace(True, 1, inplace=True)\n",
      "C:\\Users\\Lenovo\\AppData\\Local\\Temp\\ipykernel_1772\\2259509481.py:27: FutureWarning: Downcasting behavior in `replace` is deprecated and will be removed in a future version. To retain the old behavior, explicitly call `result.infer_objects(copy=False)`. To opt-in to the future behavior, set `pd.set_option('future.no_silent_downcasting', True)`\n",
      "  df[\"Transported\"].replace(False, 0, inplace=True)\n",
      "C:\\Users\\Lenovo\\AppData\\Local\\Temp\\ipykernel_1772\\2259509481.py:30: FutureWarning: Downcasting behavior in `replace` is deprecated and will be removed in a future version. To retain the old behavior, explicitly call `result.infer_objects(copy=False)`. To opt-in to the future behavior, set `pd.set_option('future.no_silent_downcasting', True)`\n",
      "  df[\"CryoSleep\"].replace(False, 0, inplace=True)\n"
     ]
    }
   ],
   "source": [
    "import numpy as np\n",
    "import pandas as pd\n",
    "from sklearn.model_selection import train_test_split, GridSearchCV, RandomizedSearchCV\n",
    "from xgboost import XGBClassifier\n",
    "from sklearn.ensemble import RandomForestClassifier\n",
    "from sklearn.metrics import accuracy_score\n",
    "from bayes_opt import BayesianOptimization\n",
    "\n",
    "df = pd.read_csv('spaceship_titanic.csv')\n",
    "\n",
    "df = df.drop(['Cabin'], axis=1)\n",
    "df = df.drop(['Destination'], axis=1)\n",
    "df = df.drop(['PassengerId'], axis=1)\n",
    "df = df.drop(['Name'], axis=1)\n",
    "df = df.drop(['VIP'], axis=1)\n",
    "df = df.drop(['HomePlanet'], axis=1)\n",
    "df = df.drop(['Age'], axis=1)\n",
    "\n",
    "df.RoomService.fillna(df.RoomService.mean(), inplace = True)\n",
    "df.FoodCourt.fillna(df.FoodCourt.mean(), inplace = True)\n",
    "df.ShoppingMall.fillna(df.ShoppingMall.mean(), inplace = True)\n",
    "df.Spa.fillna(df.Spa.mean(), inplace = True)\n",
    "df.VRDeck.fillna(df.VRDeck.mean(), inplace = True)\n",
    "df.CryoSleep.fillna(False, inplace = True)\n",
    "\n",
    "df[\"Transported\"].replace(True, 1, inplace=True)\n",
    "df[\"Transported\"].replace(False, 0, inplace=True)\n",
    "\n",
    "df[\"CryoSleep\"].replace(True, 1, inplace=True)\n",
    "df[\"CryoSleep\"].replace(False, 0, inplace=True)\n",
    "\n",
    "for colname in df:\n",
    "    df[colname] = (df[colname] - min(df[colname])) / (max(df[colname]) - min(df[colname]))\n",
    "\n",
    "TargetFun = df[\"Transported\"]"
   ]
  },
  {
   "cell_type": "code",
   "execution_count": 2,
   "metadata": {},
   "outputs": [],
   "source": [
    "Ytrain, Ytest, Xtrain, Xtest = train_test_split(TargetFun, df.drop([\"Transported\"], axis=1), test_size=0.3, train_size=0.7)"
   ]
  },
  {
   "cell_type": "markdown",
   "metadata": {},
   "source": [
    "## Случайный лес"
   ]
  },
  {
   "cell_type": "code",
   "execution_count": 3,
   "metadata": {},
   "outputs": [
    {
     "name": "stdout",
     "output_type": "stream",
     "text": [
      "Лучшие параметры RandomForest по решетке: {'max_depth': 10, 'min_samples_split': 2, 'n_estimators': 50}\n",
      "Точность RandomForest на тестовых данных (Grid Search): 0.7899\n",
      "\n"
     ]
    }
   ],
   "source": [
    "param_grid_rf = {\n",
    "    'n_estimators': [10, 50, 100],\n",
    "    'max_depth': [None, 5, 10, 20],\n",
    "    'min_samples_split': [2, 5, 10]\n",
    "}\n",
    "\n",
    "rf = RandomForestClassifier()\n",
    "grid_search_rf = GridSearchCV(estimator=rf, param_grid=param_grid_rf, scoring='accuracy', cv=5)\n",
    "grid_search_rf.fit(Xtrain, Ytrain)\n",
    "\n",
    "print(\"Лучшие параметры RandomForest по решетке:\", grid_search_rf.best_params_)\n",
    "\n",
    "best_rf = grid_search_rf.best_estimator_\n",
    "y_pred_rf = best_rf.predict(Xtest)\n",
    "accuracy_rf = accuracy_score(Ytest, y_pred_rf)\n",
    "print(f\"Точность RandomForest на тестовых данных (Grid Search): {accuracy_rf:.4f}\\n\")\n"
   ]
  },
  {
   "cell_type": "code",
   "execution_count": 4,
   "metadata": {},
   "outputs": [
    {
     "name": "stdout",
     "output_type": "stream",
     "text": [
      "Лучшие параметры RandomForest по случайному поиску: {'n_estimators': 200, 'min_samples_split': 10, 'max_depth': 10}\n",
      "Точность RandomForest на тестовых данных (Random Search): 0.7903\n",
      "\n"
     ]
    }
   ],
   "source": [
    "param_dist_rf = {\n",
    "    'n_estimators': [10, 50, 100, 200],\n",
    "    'max_depth': [None, 5, 10, 20],\n",
    "    'min_samples_split': [2, 5, 10]\n",
    "}\n",
    "random_search_rf = RandomizedSearchCV(estimator=rf, param_distributions=param_dist_rf, \n",
    "                                      n_iter=10, scoring='accuracy', cv=5)\n",
    "random_search_rf.fit(Xtrain, Ytrain)\n",
    "\n",
    "print(\"Лучшие параметры RandomForest по случайному поиску:\", random_search_rf.best_params_)\n",
    "\n",
    "best_rf_random = random_search_rf.best_estimator_\n",
    "y_pred_rf_random = best_rf_random.predict(Xtest)\n",
    "accuracy_rf_random = accuracy_score(Ytest, y_pred_rf_random)\n",
    "print(f\"Точность RandomForest на тестовых данных (Random Search): {accuracy_rf_random:.4f}\\n\")\n"
   ]
  },
  {
   "cell_type": "code",
   "execution_count": 5,
   "metadata": {},
   "outputs": [
    {
     "name": "stdout",
     "output_type": "stream",
     "text": [
      "|   iter    |  target   | max_depth | min_sa... | n_esti... |\n",
      "-------------------------------------------------------------\n",
      "| \u001b[39m1        \u001b[39m | \u001b[39m0.7922   \u001b[39m | \u001b[39m8.116    \u001b[39m | \u001b[39m9.606    \u001b[39m | \u001b[39m149.1    \u001b[39m |\n",
      "| \u001b[39m2        \u001b[39m | \u001b[39m0.7872   \u001b[39m | \u001b[39m12.37    \u001b[39m | \u001b[39m3.248    \u001b[39m | \u001b[39m39.64    \u001b[39m |\n",
      "| \u001b[39m3        \u001b[39m | \u001b[39m0.74     \u001b[39m | \u001b[39m2.104    \u001b[39m | \u001b[39m8.929    \u001b[39m | \u001b[39m124.2    \u001b[39m |\n",
      "| \u001b[39m4        \u001b[39m | \u001b[39m0.7872   \u001b[39m | \u001b[39m14.45    \u001b[39m | \u001b[39m2.165    \u001b[39m | \u001b[39m194.3    \u001b[39m |\n",
      "| \u001b[39m5        \u001b[39m | \u001b[39m0.7857   \u001b[39m | \u001b[39m16.82    \u001b[39m | \u001b[39m3.699    \u001b[39m | \u001b[39m44.55    \u001b[39m |\n",
      "| \u001b[39m6        \u001b[39m | \u001b[39m0.7895   \u001b[39m | \u001b[39m10.27    \u001b[39m | \u001b[39m8.266    \u001b[39m | \u001b[39m167.1    \u001b[39m |\n",
      "| \u001b[35m7        \u001b[39m | \u001b[35m0.7926   \u001b[39m | \u001b[35m9.53     \u001b[39m | \u001b[35m8.761    \u001b[39m | \u001b[35m149.0    \u001b[39m |\n",
      "| \u001b[39m8        \u001b[39m | \u001b[39m0.7841   \u001b[39m | \u001b[39m19.34    \u001b[39m | \u001b[39m9.988    \u001b[39m | \u001b[39m10.33    \u001b[39m |\n",
      "| \u001b[39m9        \u001b[39m | \u001b[39m0.7339   \u001b[39m | \u001b[39m1.002    \u001b[39m | \u001b[39m8.681    \u001b[39m | \u001b[39m67.6     \u001b[39m |\n",
      "| \u001b[39m10       \u001b[39m | \u001b[39m0.7419   \u001b[39m | \u001b[39m1.058    \u001b[39m | \u001b[39m2.228    \u001b[39m | \u001b[39m10.11    \u001b[39m |\n",
      "| \u001b[39m11       \u001b[39m | \u001b[39m0.7343   \u001b[39m | \u001b[39m1.264    \u001b[39m | \u001b[39m8.8      \u001b[39m | \u001b[39m186.7    \u001b[39m |\n",
      "| \u001b[39m12       \u001b[39m | \u001b[39m0.7423   \u001b[39m | \u001b[39m2.732    \u001b[39m | \u001b[39m2.112    \u001b[39m | \u001b[39m157.9    \u001b[39m |\n",
      "| \u001b[39m13       \u001b[39m | \u001b[39m0.788    \u001b[39m | \u001b[39m15.91    \u001b[39m | \u001b[39m9.883    \u001b[39m | \u001b[39m159.7    \u001b[39m |\n",
      "| \u001b[39m14       \u001b[39m | \u001b[39m0.7887   \u001b[39m | \u001b[39m19.53    \u001b[39m | \u001b[39m9.619    \u001b[39m | \u001b[39m172.0    \u001b[39m |\n",
      "| \u001b[39m15       \u001b[39m | \u001b[39m0.788    \u001b[39m | \u001b[39m19.91    \u001b[39m | \u001b[39m9.996    \u001b[39m | \u001b[39m145.4    \u001b[39m |\n",
      "| \u001b[39m16       \u001b[39m | \u001b[39m0.7872   \u001b[39m | \u001b[39m19.44    \u001b[39m | \u001b[39m8.965    \u001b[39m | \u001b[39m28.94    \u001b[39m |\n",
      "| \u001b[39m17       \u001b[39m | \u001b[39m0.7853   \u001b[39m | \u001b[39m19.87    \u001b[39m | \u001b[39m3.035    \u001b[39m | \u001b[39m182.3    \u001b[39m |\n",
      "| \u001b[39m18       \u001b[39m | \u001b[39m0.7864   \u001b[39m | \u001b[39m19.96    \u001b[39m | \u001b[39m7.892    \u001b[39m | \u001b[39m199.5    \u001b[39m |\n",
      "| \u001b[39m19       \u001b[39m | \u001b[39m0.7834   \u001b[39m | \u001b[39m19.99    \u001b[39m | \u001b[39m4.888    \u001b[39m | \u001b[39m97.46    \u001b[39m |\n",
      "| \u001b[39m20       \u001b[39m | \u001b[39m0.7431   \u001b[39m | \u001b[39m1.482    \u001b[39m | \u001b[39m9.755    \u001b[39m | \u001b[39m32.5     \u001b[39m |\n",
      "=============================================================\n",
      "Лучшие параметры RandomForest по байесовскому подходу: {'target': 0.7925613496932515, 'params': {'max_depth': 9.529751390726224, 'min_samples_split': 8.760640513006514, 'n_estimators': 148.96030213572854}}\n"
     ]
    }
   ],
   "source": [
    "def rf_evaluate(n_estimators, max_depth, min_samples_split):\n",
    "    model = RandomForestClassifier(n_estimators=int(n_estimators), max_depth=int(max_depth), \n",
    "                                   min_samples_split=int(min_samples_split))\n",
    "    model.fit(Xtrain, Ytrain)\n",
    "    pred = model.predict(Xtest)\n",
    "    return accuracy_score(Ytest, pred)\n",
    "\n",
    "pbounds_rf = {\n",
    "    'n_estimators': (10, 200),\n",
    "    'max_depth': (1, 20),\n",
    "    'min_samples_split': (2, 10),\n",
    "}\n",
    "\n",
    "optimizer_rf = BayesianOptimization(\n",
    "    f=rf_evaluate,\n",
    "    pbounds=pbounds_rf,\n",
    "    random_state=42,\n",
    ")\n",
    "\n",
    "optimizer_rf.maximize(init_points=5, n_iter=15)\n",
    "\n",
    "print(\"Лучшие параметры RandomForest по байесовскому подходу:\", optimizer_rf.max)"
   ]
  },
  {
   "cell_type": "markdown",
   "metadata": {},
   "source": [
    "## XGBoost"
   ]
  },
  {
   "cell_type": "code",
   "execution_count": 6,
   "metadata": {},
   "outputs": [
    {
     "name": "stdout",
     "output_type": "stream",
     "text": [
      "Лучшие параметры XGBoost по решетке: {'learning_rate': 0.2, 'max_depth': 3, 'n_estimators': 50}\n",
      "Точность XGBoost на тестовых данных (Grid Search): 0.7910\n",
      "\n"
     ]
    }
   ],
   "source": [
    "param_grid_xgb = {\n",
    "    'n_estimators': [50, 100, 200],\n",
    "    'max_depth': [3, 5, 7],\n",
    "    'learning_rate': [0.01, 0.1, 0.2],\n",
    "}\n",
    "xgb = XGBClassifier()\n",
    "grid_search_xgb = GridSearchCV(estimator=xgb, param_grid=param_grid_xgb, scoring='accuracy', cv=5)\n",
    "grid_search_xgb.fit(Xtrain, Ytrain)\n",
    "\n",
    "print(\"Лучшие параметры XGBoost по решетке:\", grid_search_xgb.best_params_)\n",
    "\n",
    "best_xgb_grid = grid_search_xgb.best_estimator_\n",
    "y_pred_xgb_grid = best_xgb_grid.predict(Xtest)\n",
    "accuracy_xgb_grid = accuracy_score(Ytest, y_pred_xgb_grid)\n",
    "print(f\"Точность XGBoost на тестовых данных (Grid Search): {accuracy_xgb_grid:.4f}\\n\")"
   ]
  },
  {
   "cell_type": "code",
   "execution_count": 7,
   "metadata": {},
   "outputs": [
    {
     "name": "stdout",
     "output_type": "stream",
     "text": [
      "Лучшие параметры XGBoost по случайному поиску: {'n_estimators': 50, 'max_depth': 3, 'learning_rate': 0.2}\n",
      "Точность XGBoost на тестовых данных (Random Search): 0.7910\n",
      "\n"
     ]
    }
   ],
   "source": [
    "param_dist_xgb = {\n",
    "    'n_estimators': [50, 100, 200],\n",
    "    'max_depth': [3, 5, 7],\n",
    "    'learning_rate': [0.01, 0.1, 0.2],\n",
    "}\n",
    "random_search_xgb = RandomizedSearchCV(estimator=xgb, param_distributions=param_dist_xgb, \n",
    "                                       n_iter=10, scoring='accuracy', cv=5)\n",
    "random_search_xgb.fit(Xtrain, Ytrain)\n",
    "\n",
    "print(\"Лучшие параметры XGBoost по случайному поиску:\", random_search_xgb.best_params_)\n",
    "\n",
    "best_xgb_random = random_search_xgb.best_estimator_\n",
    "y_pred_xgb_random = best_xgb_random.predict(Xtest)\n",
    "accuracy_xgb_random = accuracy_score(Ytest, y_pred_xgb_random)\n",
    "print(f\"Точность XGBoost на тестовых данных (Random Search): {accuracy_xgb_random:.4f}\\n\")"
   ]
  },
  {
   "cell_type": "code",
   "execution_count": 8,
   "metadata": {},
   "outputs": [
    {
     "name": "stdout",
     "output_type": "stream",
     "text": [
      "|   iter    |  target   | learni... | max_depth | n_esti... |\n",
      "-------------------------------------------------------------\n",
      "| \u001b[39m1        \u001b[39m | \u001b[39m0.7887   \u001b[39m | \u001b[39m0.08116  \u001b[39m | \u001b[39m9.655    \u001b[39m | \u001b[39m159.8    \u001b[39m |\n",
      "| \u001b[35m2        \u001b[39m | \u001b[35m0.791    \u001b[39m | \u001b[35m0.1237   \u001b[39m | \u001b[35m4.092    \u001b[39m | \u001b[35m73.4     \u001b[39m |\n",
      "| \u001b[39m3        \u001b[39m | \u001b[39m0.7899   \u001b[39m | \u001b[39m0.02104  \u001b[39m | \u001b[39m9.063    \u001b[39m | \u001b[39m140.2    \u001b[39m |\n",
      "| \u001b[39m4        \u001b[39m | \u001b[39m0.7891   \u001b[39m | \u001b[39m0.1445   \u001b[39m | \u001b[39m3.144    \u001b[39m | \u001b[39m195.5    \u001b[39m |\n",
      "| \u001b[35m5        \u001b[39m | \u001b[35m0.7926   \u001b[39m | \u001b[35m0.1682   \u001b[39m | \u001b[35m4.486    \u001b[39m | \u001b[35m77.27    \u001b[39m |\n",
      "| \u001b[39m6        \u001b[39m | \u001b[39m0.7891   \u001b[39m | \u001b[39m0.1196   \u001b[39m | \u001b[39m7.602    \u001b[39m | \u001b[39m79.19    \u001b[39m |\n",
      "| \u001b[39m7        \u001b[39m | \u001b[39m0.7903   \u001b[39m | \u001b[39m0.1481   \u001b[39m | \u001b[39m4.522    \u001b[39m | \u001b[39m77.31    \u001b[39m |\n",
      "| \u001b[35m8        \u001b[39m | \u001b[35m0.7937   \u001b[39m | \u001b[35m0.09546  \u001b[39m | \u001b[35m4.523    \u001b[39m | \u001b[35m77.14    \u001b[39m |\n",
      "| \u001b[39m9        \u001b[39m | \u001b[39m0.788    \u001b[39m | \u001b[39m0.1892   \u001b[39m | \u001b[39m5.575    \u001b[39m | \u001b[39m83.19    \u001b[39m |\n",
      "| \u001b[39m10       \u001b[39m | \u001b[39m0.783    \u001b[39m | \u001b[39m0.1799   \u001b[39m | \u001b[39m9.031    \u001b[39m | \u001b[39m112.0    \u001b[39m |\n",
      "| \u001b[39m11       \u001b[39m | \u001b[39m0.7918   \u001b[39m | \u001b[39m0.1216   \u001b[39m | \u001b[39m4.439    \u001b[39m | \u001b[39m77.14    \u001b[39m |\n",
      "| \u001b[39m12       \u001b[39m | \u001b[39m0.7899   \u001b[39m | \u001b[39m0.03507  \u001b[39m | \u001b[39m4.445    \u001b[39m | \u001b[39m77.04    \u001b[39m |\n",
      "| \u001b[39m13       \u001b[39m | \u001b[39m0.7891   \u001b[39m | \u001b[39m0.1727   \u001b[39m | \u001b[39m4.198    \u001b[39m | \u001b[39m77.51    \u001b[39m |\n",
      "| \u001b[39m14       \u001b[39m | \u001b[39m0.7937   \u001b[39m | \u001b[39m0.1295   \u001b[39m | \u001b[39m4.601    \u001b[39m | \u001b[39m77.07    \u001b[39m |\n",
      "| \u001b[39m15       \u001b[39m | \u001b[39m0.7876   \u001b[39m | \u001b[39m0.1979   \u001b[39m | \u001b[39m4.613    \u001b[39m | \u001b[39m77.11    \u001b[39m |\n",
      "| \u001b[39m16       \u001b[39m | \u001b[39m0.7914   \u001b[39m | \u001b[39m0.06857  \u001b[39m | \u001b[39m9.028    \u001b[39m | \u001b[39m64.08    \u001b[39m |\n",
      "| \u001b[39m17       \u001b[39m | \u001b[39m0.788    \u001b[39m | \u001b[39m0.05022  \u001b[39m | \u001b[39m9.071    \u001b[39m | \u001b[39m64.14    \u001b[39m |\n",
      "| \u001b[39m18       \u001b[39m | \u001b[39m0.791    \u001b[39m | \u001b[39m0.06096  \u001b[39m | \u001b[39m4.787    \u001b[39m | \u001b[39m125.7    \u001b[39m |\n",
      "| \u001b[39m19       \u001b[39m | \u001b[39m0.7883   \u001b[39m | \u001b[39m0.1263   \u001b[39m | \u001b[39m3.431    \u001b[39m | \u001b[39m113.7    \u001b[39m |\n",
      "| \u001b[39m20       \u001b[39m | \u001b[39m0.7876   \u001b[39m | \u001b[39m0.1225   \u001b[39m | \u001b[39m8.037    \u001b[39m | \u001b[39m69.2     \u001b[39m |\n",
      "=============================================================\n",
      "Лучшие параметры XGBoost по байесовскому подходу: {'target': 0.7937116564417178, 'params': {'learning_rate': 0.09546065947220964, 'max_depth': 4.522980149888664, 'n_estimators': 77.14088935825087}}\n"
     ]
    }
   ],
   "source": [
    "def xgb_evaluate(n_estimators, max_depth, learning_rate):\n",
    "    model = XGBClassifier(n_estimators=int(n_estimators), max_depth=int(max_depth), learning_rate=learning_rate)\n",
    "    model.fit(Xtrain, Ytrain)\n",
    "    pred = model.predict(Xtest)\n",
    "    return accuracy_score(Ytest, pred)\n",
    "\n",
    "pbounds_xgb = {\n",
    "    'n_estimators': (50, 200),\n",
    "    'max_depth': (3, 10),\n",
    "    'learning_rate': (0.01, 0.2),\n",
    "}\n",
    "\n",
    "optimizer_xgb = BayesianOptimization(\n",
    "    f=xgb_evaluate,\n",
    "    pbounds=pbounds_xgb,\n",
    "    random_state=42,\n",
    ")\n",
    "\n",
    "optimizer_xgb.maximize(init_points=5, n_iter=15)\n",
    "\n",
    "print(\"Лучшие параметры XGBoost по байесовскому подходу:\", optimizer_xgb.max)"
   ]
  }
 ],
 "metadata": {
  "kernelspec": {
   "display_name": "Python 3",
   "language": "python",
   "name": "python3"
  },
  "language_info": {
   "codemirror_mode": {
    "name": "ipython",
    "version": 3
   },
   "file_extension": ".py",
   "mimetype": "text/x-python",
   "name": "python",
   "nbconvert_exporter": "python",
   "pygments_lexer": "ipython3",
   "version": "3.11.1"
  }
 },
 "nbformat": 4,
 "nbformat_minor": 2
}
