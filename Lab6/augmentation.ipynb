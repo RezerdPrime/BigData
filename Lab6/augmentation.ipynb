{
 "cells": [
  {
   "cell_type": "code",
   "execution_count": 1,
   "metadata": {},
   "outputs": [],
   "source": [
    "import cv2\n",
    "import albumentations as A\n",
    "from random import randint\n",
    "\n",
    "\n",
    "img = cv2.imread(\"f0.png\")\n",
    "img = cv2.cvtColor(img, cv2.COLOR_BGR2RGB)\n",
    "mask = cv2.imread(\"m0.png\")\n",
    "\n",
    "maintransform = A.Compose([\n",
    "        A.Rotate(limit=(0, 360), p=1),\n",
    "        A.GaussianBlur(blur_limit=(1, 7), sigma_limit=(0.1, 2), p=1)\n",
    "    ])\n",
    "\n",
    "colortransform = A.Compose([\n",
    "    A.HueSaturationValue(hue_shift_limit=(-180,180), sat_shift_limit=(-50,50), val_shift_limit=(-50,50), p=1),\n",
    "    #A.InvertImg()\n",
    "])\n",
    "\n",
    "for i in range(200):\n",
    "\n",
    "    sizetransform = A.Compose([\n",
    "        A.RandomResizedCrop(height=256, width=256, scale=(0.2, 1.0))\n",
    "    ])\n",
    "    \n",
    "    imgtransform = maintransform(image=img, mask=mask)\n",
    "    aug_image = imgtransform['image']\n",
    "    aug_mask = imgtransform['mask']\n",
    "\n",
    "    sztr = sizetransform(image=aug_image, mask=aug_mask)\n",
    "\n",
    "    augmented_image = colortransform(image=sztr['image'])['image']\n",
    "    augmented_mask = sztr['mask']\n",
    "    \n",
    "    cv2.imwrite(f\"dataset/f{i+1}.png\", cv2.cvtColor(augmented_image, cv2.COLOR_RGB2BGR))\n",
    "    cv2.imwrite(f\"dataset_masks/m{i+1}.png\", cv2.cvtColor(augmented_mask, cv2.COLOR_RGB2BGR))"
   ]
  }
 ],
 "metadata": {
  "kernelspec": {
   "display_name": "Python 3",
   "language": "python",
   "name": "python3"
  },
  "language_info": {
   "codemirror_mode": {
    "name": "ipython",
    "version": 3
   },
   "file_extension": ".py",
   "mimetype": "text/x-python",
   "name": "python",
   "nbconvert_exporter": "python",
   "pygments_lexer": "ipython3",
   "version": "3.11.1"
  }
 },
 "nbformat": 4,
 "nbformat_minor": 2
}
